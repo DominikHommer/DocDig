{
 "cells": [
  {
   "cell_type": "code",
   "execution_count": 4,
   "metadata": {},
   "outputs": [],
   "source": [
    "#Segmentation\n",
    "from segmentation_client import SegmentationClient\n",
    "\n",
    "\n",
    "MAIN_DIRECTORY = \"/content/drive/MyDrive/Scans\"\n",
    "\n",
    "# Define PDF to segment\n",
    "TEST_FILE = MAIN_DIRECTORY + \"/1972/scan_1972_CdB_2_20231125160645.pdf\"\n",
    "\n",
    "table = [[],[]]\n",
    "\n",
    "sgc = SegmentationClient(MAIN_DIRECTORY)\n",
    "table[0] = sgc.pdf_scan_to_cells_of_columns(TEST_FILE, 1)\n",
    "table[1] = sgc.pdf_scan_to_cells_of_columns(TEST_FILE, 6)\n",
    "#table[2] = pdf_scan_to_cells_of_columns(TEST_FILE, 7)\n"
   ]
  }
 ],
 "metadata": {
  "kernelspec": {
   "display_name": ".venv",
   "language": "python",
   "name": "python3"
  },
  "language_info": {
   "codemirror_mode": {
    "name": "ipython",
    "version": 3
   },
   "file_extension": ".py",
   "mimetype": "text/x-python",
   "name": "python",
   "nbconvert_exporter": "python",
   "pygments_lexer": "ipython3",
   "version": "3.12.6"
  }
 },
 "nbformat": 4,
 "nbformat_minor": 2
}
