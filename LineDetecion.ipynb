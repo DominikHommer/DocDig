{
 "cells": [
  {
   "cell_type": "code",
   "execution_count": null,
   "id": "initial_id",
   "metadata": {
    "collapsed": true
   },
   "outputs": [],
   "source": [
    "from segmentation_client import SegmentationClient\n",
    "import os\n",
    "import cv2 as cv\n",
    "import numpy as np\n",
    "import matplotlib.pyplot as plt\n",
    "import json"
   ]
  },
  {
   "metadata": {},
   "cell_type": "code",
   "outputs": [],
   "execution_count": null,
   "source": "imgPath = 'C:/Uni/1M. Semester/DocDig/Test/EntirePages'",
   "id": "8be4b5d03ebde64c"
  },
  {
   "metadata": {},
   "cell_type": "code",
   "outputs": [],
   "execution_count": null,
   "source": [
    "# List of images in the directory\n",
    "image_files = os.listdir(imgPath)\n",
    "\n",
    "# Create a figure with subplots\n",
    "num_images = len(image_files)\n",
    "fig, axes = plt.subplots(num_images, 1, figsize=(60,120))\n",
    "\n",
    "for i, img in enumerate(image_files):\n",
    "    # Load the image in Grayscale\n",
    "    img_gray = cv.imread(os.path.join(imgPath, img), cv.IMREAD_GRAYSCALE)\n",
    "    img_color = cv.imread(os.path.join(imgPath, img), cv.IMREAD_COLOR)\n",
    "    assert img_gray is not None, \"file could not be read, check with os.path.exists()\"\n",
    "\n",
    "    # Apply edge detection (e.g., using Canny)\n",
    "    edges = cv.Canny(img_gray, 50, 150, apertureSize=3)\n",
    "    #cv.imshow(\"Edges\", edges)\n",
    "    #cv.waitKey()\n",
    "    #cv.destroyAllWindows()\n",
    "\n",
    "    # Use Hough Line Transform to detect lines\n",
    "    lines = cv.HoughLines(edges, 1, np.pi / 180, 700)\n",
    "\n",
    "    # Create a copy of the original image to draw lines on\n",
    "    img_lines = img_color.copy()\n",
    "    #img_lines = np.zeros_like(img_gray)\n",
    "    \n",
    "    # Calculate angles and draw detected lines\n",
    "    angles = []\n",
    "    if lines is not None:\n",
    "      for rho, theta in lines[:, 0]:\n",
    "        # Convert angle from radians to degrees\n",
    "        angle = np.rad2deg(theta)\n",
    "        # Filter for nearly vertical lines (close to 0° or 180°)\n",
    "        if angle < 10 or angle > 170:\n",
    "          angles.append(angle if angle < 90 else angle - 180)\n",
    "\n",
    "          # Draw the line on the image for visualization\n",
    "          a = np.cos(theta)\n",
    "          b = np.sin(theta)\n",
    "          x0 = a * rho\n",
    "          y0 = b * rho\n",
    "          x1 = int(x0 + 1000 * (-b))\n",
    "          y1 = int(y0 + 1000 * (a))\n",
    "          x2 = int(x0 - 1000 * (-b))\n",
    "          y2 = int(y0 - 1000 * (a))\n",
    "          cv.line(img_lines, (x1, y1), (x2, y2), tuple(np.random.randint(0, 256, 3).tolist()), 2)\n",
    "\n",
    "    # Count the number of detected lines\n",
    "    num_lines = len(lines) if lines is not None else 0\n",
    "    \n",
    "    # Display each processed image in a subplot\n",
    "    axes[i].imshow(cv.cvtColor(img_lines, cv.COLOR_BGR2RGB))\n",
    "    axes[i].axis('off')  # Hide the axis\n",
    "    axes[i].set_title(f\"Image {i+1} - Lines: {num_lines}\")\n",
    "\n",
    "# Adjust layout and display the plot\n",
    "plt.tight_layout()\n",
    "plt.show()"
   ],
   "id": "da3f01b7d6862e78"
  }
 ],
 "metadata": {
  "kernelspec": {
   "display_name": "Python 3",
   "language": "python",
   "name": "python3"
  },
  "language_info": {
   "codemirror_mode": {
    "name": "ipython",
    "version": 2
   },
   "file_extension": ".py",
   "mimetype": "text/x-python",
   "name": "python",
   "nbconvert_exporter": "python",
   "pygments_lexer": "ipython2",
   "version": "2.7.6"
  }
 },
 "nbformat": 4,
 "nbformat_minor": 5
}
