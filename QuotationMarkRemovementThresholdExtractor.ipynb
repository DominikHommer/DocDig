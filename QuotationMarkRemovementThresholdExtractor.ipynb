{
 "cells": [
  {
   "metadata": {},
   "cell_type": "markdown",
   "source": "### This script takes an amount of labeled pdf files, and extracts the relative_non_white value for each segmented box, to get the perfect threshold for the applied segmentation and preprocessing",
   "id": "35a2348358b7248a"
  },
  {
   "cell_type": "code",
   "id": "initial_id",
   "metadata": {
    "collapsed": true,
    "ExecuteTime": {
     "end_time": "2024-12-15T18:04:33.632317Z",
     "start_time": "2024-12-15T18:04:31.813480Z"
    }
   },
   "source": [
    "import utils\n",
    "\n",
    "import os\n",
    "import cv2\n",
    "import numpy as np\n",
    "import matplotlib.pyplot as plt\n",
    "import re\n",
    "import pandas as pd"
   ],
   "outputs": [],
   "execution_count": 13
  },
  {
   "metadata": {
    "ExecuteTime": {
     "end_time": "2024-12-15T18:25:25.381902Z",
     "start_time": "2024-12-15T18:25:25.364108Z"
    }
   },
   "cell_type": "code",
   "source": [
    "BASE_PATH='C:\\\\Uni\\\\1M. Semester\\\\DocDig\\\\gen_img'      # Path whith the scan folders (which contain a cell folder and a Gelabelt.xlsx\n",
    "SCANS=['scan_1972_CdB_3_20231125160810.pdf', 'scan_1972_CdB_10_20231125162253.pdf']            # Scans that should be included to the threshold analysis\n",
    "\n",
    "scan_paths = [os.path.join(BASE_PATH, scan) for scan in SCANS]"
   ],
   "id": "b599c5f25cffdbf1",
   "outputs": [],
   "execution_count": 30
  },
  {
   "metadata": {
    "ExecuteTime": {
     "end_time": "2024-12-15T18:25:26.705639Z",
     "start_time": "2024-12-15T18:25:26.690620Z"
    }
   },
   "cell_type": "code",
   "source": [
    "# Regex pattern to match files like 125160810Gelabelt.xlsx (The labels)\n",
    "pattern = re.compile(r'^\\d+Gelabelt\\.xlsx$')\n",
    "\n",
    "label_paths = []\n",
    "\n",
    "for scan in scan_paths:\n",
    "    \n",
    "    # Check if it is a folder\n",
    "    if not os.path.exists(scan):\n",
    "        print(f\"This path does not exist: {scan}\")\n",
    "        \n",
    "    # Search the label excel file\n",
    "    if os.path.isdir(scan):\n",
    "        found_file = False # Flag to track if the file was found\n",
    "        for file in os.listdir(scan):\n",
    "            if pattern.match(file):\n",
    "                full_path = os.path.join(scan, file)\n",
    "                label_paths.append(full_path)\n",
    "                found_file = True\n",
    "                break\n",
    "        # If the file is not found, print an error message\n",
    "        if not found_file:\n",
    "            print(f\"Error: No matching Gelabelt.xlsx file found in folder '{scan}'.\")\n",
    "            scan_paths.remove(scan)     # Remove this folder, as it has no labels and therefore cant be used for the threshold analysis"
   ],
   "id": "3ea9936c9a73865c",
   "outputs": [
    {
     "name": "stdout",
     "output_type": "stream",
     "text": [
      "Error: No matching Gelabelt.xlsx file found in folder 'C:\\Uni\\1M. Semester\\DocDig\\gen_img\\scan_1972_CdB_10_20231125162253.pdf'.\n"
     ]
    }
   ],
   "execution_count": 31
  },
  {
   "metadata": {
    "ExecuteTime": {
     "end_time": "2024-12-15T18:25:29.534127Z",
     "start_time": "2024-12-15T18:25:29.444023Z"
    }
   },
   "cell_type": "code",
   "source": [
    "### Get all labels into a list\n",
    "\n",
    "# Initialize a list to store labels for each sheet\n",
    "label_list = []\n",
    "\n",
    "for labels in label_paths:\n",
    "    excel_data = pd.read_excel(labels, sheet_name=None, header=None, dtype=str)\n",
    "\n",
    "    temp_label_list = []\n",
    "\n",
    "    # Iterate through each sheet in the Excel file\n",
    "    for sheet_name, df in excel_data.items():\n",
    "        # Extract the first 50 lines from the second column (column 'B')\n",
    "        labels = df.iloc[:50, 1]  # Get the first 50 rows of column B\n",
    "    \n",
    "        # Replace NaN values (empty cells) with empty strings\n",
    "        labels = labels.fillna('')\n",
    "    \n",
    "        # Append the labels as a list for this sheet, preserving all values\n",
    "        temp_label_list.append(labels.values)\n",
    "    label_list.append(temp_label_list)\n",
    "\n",
    "label_list = np.array(label_list)\n",
    "print(label_list)\n",
    "print(label_list.shape)"
   ],
   "id": "c1074ab8baf8a729",
   "outputs": [
    {
     "name": "stdout",
     "output_type": "stream",
     "text": [
      "[[['Mehlschwalbe' '\"' '\"' ... '\"' '\"' '\"']\n",
      "  ['Tannenmeise' '\"' '' ... '\"' '\"' '\"']\n",
      "  ['Tannenmeise' '' '' ... '\"' '\"' '\"']\n",
      "  ...\n",
      "  ['Mésange bleue' 'Mésange noire' 'Mésange bleue' ... '\"' '\"' '\"']\n",
      "  ['Trauerschnäpper' '\"' '\"' ... 'Fitis' 'Gartenrötel' 'Trauerschnäpper']\n",
      "  ['Trauerschnäpper' '\"' 'Gartenrötel' ... '\"' '\"' '\"']]]\n",
      "(1, 23, 50)\n"
     ]
    }
   ],
   "execution_count": 32
  },
  {
   "metadata": {
    "ExecuteTime": {
     "end_time": "2024-12-15T18:40:28.064498Z",
     "start_time": "2024-12-15T18:40:27.042036Z"
    }
   },
   "cell_type": "code",
   "source": [
    "image_folder = \"cells\\\\NOPRE-COLOR-col-1\"\n",
    "\n",
    "QuotationMarkRelativeNonWhites = []\n",
    "TextRelativeNonWhites = []\n",
    "\n",
    "# Loop over all pdf files\n",
    "for i, scan in enumerate(scan_paths):\n",
    "    # Loop over all pages in this pdf file\n",
    "    for page in range(len(label_list[0])):\n",
    "        # Loop over all lines of this page\n",
    "        for line in range(50):\n",
    "            filename = str(page) + \"-\" + str(line+2) + \".png\"\n",
    "            \n",
    "            label = label_list[i][page][line]\n",
    "            \n",
    "            # Construct the full path to image segment\n",
    "            file_path = os.path.join(scan, image_folder, filename)\n",
    "            if not os.path.exists(file_path):\n",
    "                print(f\"Something went wrong!!! {file_path} is not a file!!! .isfile: {os.path.isfile(file_path)}\")\n",
    "                break   # if something went wrong here, it usually is because of wrong segmentation ---> should be fixed with benedikts new segmentation\n",
    "                #Todo: Implement upgraded segmentation in this process\n",
    "            \n",
    "            # Check if the file is an image (add more extensions if needed)\n",
    "            if filename.lower().endswith(('.png', '.jpg', '.jpeg', '.tiff', '.bmp', '.gif')):\n",
    "                try:\n",
    "                    # Load and process the image\n",
    "                    image_original = cv2.imread(file_path)\n",
    "                    \n",
    "                    tmp = utils.detectQuotationMarks(image_original)\n",
    "                    \n",
    "                    # Check if true label is a quotationmark or a text and append the relative value to list for later plotting\n",
    "                    if label == '\"' or label == '':\n",
    "                        QuotationMarkRelativeNonWhites.append(tmp['relativeNonWhite'])\n",
    "                    else:\n",
    "                        TextRelativeNonWhites.append(tmp['relativeNonWhite'])\n",
    "                        \n",
    "                    \n",
    "                except Exception as e:\n",
    "                    print(f\"Error processing file {filename}: {e}\")"
   ],
   "id": "c4562d297cf3d43c",
   "outputs": [
    {
     "name": "stdout",
     "output_type": "stream",
     "text": [
      "Something went wrong!!! C:\\Uni\\1M. Semester\\DocDig\\gen_img\\scan_1972_CdB_3_20231125160810.pdf\\cells\\NOPRE-COLOR-col-1\\14-51.png is not a file!!! .isfile: False\n",
      "Something went wrong!!! C:\\Uni\\1M. Semester\\DocDig\\gen_img\\scan_1972_CdB_3_20231125160810.pdf\\cells\\NOPRE-COLOR-col-1\\18-39.png is not a file!!! .isfile: False\n"
     ]
    }
   ],
   "execution_count": 39
  },
  {
   "metadata": {
    "ExecuteTime": {
     "end_time": "2024-12-15T18:53:18.000766Z",
     "start_time": "2024-12-15T18:53:17.880757Z"
    }
   },
   "cell_type": "code",
   "source": [
    "# Quotationmarks\n",
    "print(\"\\nRESULTS FOR Quotationmarks:\")\n",
    "print(f\"Mean: {np.mean(QuotationMarkRelativeNonWhites):.4f}, Median: {np.median(QuotationMarkRelativeNonWhites):.4f}, Quantiles (85, 90, 95): ({np.quantile(QuotationMarkRelativeNonWhites, 0.85):.4f}, {np.quantile(QuotationMarkRelativeNonWhites, 0.90):.4f}, {np.quantile(QuotationMarkRelativeNonWhites, 0.95):.4f}), Minimum: {np.min(QuotationMarkRelativeNonWhites):.4f}, Maximum: {np.max(QuotationMarkRelativeNonWhites):.4f}\")\n",
    "\n",
    "# Text\n",
    "print(\"\\nRESULTS FOR Text:\")\n",
    "print(f\"Mean: {np.mean(TextRelativeNonWhites):.4f}, Median: {np.median(TextRelativeNonWhites):.4f}, Quantiles (1, 2, 3, 4, 5, 10): ({np.quantile(TextRelativeNonWhites, 0.01):.4f}), {np.quantile(TextRelativeNonWhites, 0.02):.4f}), {np.quantile(TextRelativeNonWhites, 0.03):.4f}),, {np.quantile(TextRelativeNonWhites, 0.04):.4f}) {np.quantile(TextRelativeNonWhites, 0.05):.4f}, {np.quantile(TextRelativeNonWhites, 0.10):.4f}, Minimum: {np.min(TextRelativeNonWhites):.4f}, Maximum: {np.max(TextRelativeNonWhites):.4f}\")\n",
    "\n",
    "\n",
    "plt.figure(figsize=(12, 2))\n",
    "plt.boxplot([QuotationMarkRelativeNonWhites, TextRelativeNonWhites], vert=False, patch_artist=True, boxprops=dict(facecolor='lightblue'))\n",
    "\n",
    "# Add labels and title\n",
    "plt.title('Boxplot of Percentage of Colored Pixels')\n",
    "plt.xlabel('Percentage')\n",
    "plt.yticks([1, 2], ['QuotationMarks', 'Text'])\n",
    "\n",
    "# Add a light grid with lines at every 0.01 on the x-axis\n",
    "plt.grid(axis='x', color='gray', linestyle='--', linewidth=0.2, alpha=0.7)\n",
    "\n",
    "# Add gridlines for every 0.01\n",
    "plt.xticks(ticks=[i * 0.02 for i in range(0, 18)],  # Show every second tick (0.00, 0.02, ...)\n",
    "           labels=[f'{i * 0.02:.2f}' for i in range(0, 18)])  # Format as 0.00, 0.02, etc.\n",
    "\n",
    "# Manually add the gridlines at every 0.01\n",
    "for x in [i * 0.01 for i in range(0, 31)]:\n",
    "    plt.axvline(x=x, color='gray', linestyle='--', linewidth=0.2, alpha=0.7)\n",
    "    \n",
    "# Display the plot\n",
    "plt.show()"
   ],
   "id": "bba03cf64b8cc217",
   "outputs": [
    {
     "name": "stdout",
     "output_type": "stream",
     "text": [
      "\n",
      "RESULTS FOR Quotationmarks:\n",
      "Mean: 0.0785, Median: 0.0746, Quantiles (85, 90, 95): (0.0882, 0.0936, 0.1201), Minimum: 0.0029, Maximum: 0.2875\n",
      "\n",
      "RESULTS FOR Text:\n",
      "Mean: 0.1422, Median: 0.1416, Quantiles (1, 2, 3, 4, 5, 10): (0.0790), 0.0925), 0.0970),, 0.1040) 0.1062, 0.1142, Minimum: 0.0713, Maximum: 0.3083\n"
     ]
    },
    {
     "data": {
      "text/plain": [
       "<Figure size 1200x200 with 1 Axes>"
      ],
      "image/png": "[encoded data removed]"
     },
     "metadata": {},
     "output_type": "display_data"
    }
   ],
   "execution_count": 50
  }
 ],
 "metadata": {
  "kernelspec": {
   "display_name": "Python 3",
   "language": "python",
   "name": "python3"
  },
  "language_info": {
   "codemirror_mode": {
    "name": "ipython",
    "version": 2
   },
   "file_extension": ".py",
   "mimetype": "text/x-python",
   "name": "python",
   "nbconvert_exporter": "python",
   "pygments_lexer": "ipython2",
   "version": "2.7.6"
  }
 },
 "nbformat": 4,
 "nbformat_minor": 5
}
