{
 "cells": [
  {
   "cell_type": "code",
   "execution_count": 10,
   "metadata": {},
   "outputs": [],
   "source": [
    "import os\n",
    "import cv2\n",
    "import numpy as np\n",
    "import xml.etree.ElementTree as ET"
   ]
  },
  {
   "cell_type": "code",
   "execution_count": 5,
   "metadata": {},
   "outputs": [],
   "source": [
    "def draw_bboxes_from_xml(xml_path, img_path, output_path):\n",
    "    # Lade das Input-Bild, um Größe und Format zu übernehmen\n",
    "    input_img = cv2.imread(img_path)\n",
    "    if input_img is None:\n",
    "        raise ValueError(f\"Das Input-Bild konnte nicht geladen werden: {img_path}\")\n",
    "    \n",
    "    # Erstelle ein neues Bild mit exakt derselben Form wie das Input-Bild, jedoch komplett schwarz\n",
    "    out_img = np.zeros_like(input_img)\n",
    "    \n",
    "    # XML-Datei parsen\n",
    "    tree = ET.parse(xml_path)\n",
    "    root = tree.getroot()\n",
    "    \n",
    "    # Für jedes Objekt im XML: Bounding-Box-Punkte (x1 bis x4) extrahieren\n",
    "    for obj in root.findall('object'):\n",
    "        bndbox = obj.find('bndbox')\n",
    "        x1 = int(float(bndbox.find('x1').text))\n",
    "        y1 = int(float(bndbox.find('y1').text))\n",
    "        x2 = int(float(bndbox.find('x2').text))\n",
    "        y2 = int(float(bndbox.find('y2').text))\n",
    "        x3 = int(float(bndbox.find('x3').text))\n",
    "        y3 = int(float(bndbox.find('y3').text))\n",
    "        x4 = int(float(bndbox.find('x4').text))\n",
    "        y4 = int(float(bndbox.find('y4').text))\n",
    "        \n",
    "        # Erstelle ein Array der Eckpunkte\n",
    "        pts = np.array([[x1, y1],\n",
    "                        [x2, y2],\n",
    "                        [x3, y3],\n",
    "                        [x4, y4]], np.int32).reshape((-1, 1, 2))\n",
    "        \n",
    "        # Definiere die Farbe \"weiß\" entsprechend der Bildkanäle:\n",
    "        # Bei einem Farb-/BGR-Bild: (255, 255, 255), bei einem Graustufenbild: 255.\n",
    "        color = (255, 255, 255) if len(out_img.shape) == 3 and out_img.shape[2] == 3 else 255\n",
    "        \n",
    "        # Zeichne das Polygon als weiße Linie (Dicke 1 Pixel)\n",
    "        cv2.polylines(out_img, [pts], isClosed=True, color=color, thickness=1)\n",
    "    \n",
    "    # Speichere das Ergebnis – das Output-Bild hat exakt dieselbe Größe und Format wie das Input-Bild\n",
    "    cv2.imwrite(output_path, out_img)"
   ]
  },
  {
   "cell_type": "code",
   "execution_count": 14,
   "metadata": {},
   "outputs": [],
   "source": [
    "def generate_bb_data(path = './wtw_data'):\n",
    "    all_xml_files = os.listdir(path + '/xml')\n",
    "\n",
    "    for _, file in enumerate(all_xml_files):\n",
    "        xml_datei = file\n",
    "        input_datei = file.replace('..', '.').replace('.xml', '.jpg')\n",
    "        output_datei = input_datei\n",
    "\n",
    "        try:\n",
    "            draw_bboxes_from_xml(path + '/xml/' + xml_datei, path + '/images/' + input_datei, path + '/bbox_images/' + output_datei)\n",
    "        except:\n",
    "            continue"
   ]
  },
  {
   "cell_type": "code",
   "execution_count": null,
   "metadata": {},
   "outputs": [
    {
     "name": "stderr",
     "output_type": "stream",
     "text": [
      "libpng warning: iCCP: known incorrect sRGB profile\n",
      "libpng warning: iCCP: known incorrect sRGB profile\n"
     ]
    }
   ],
   "source": [
    "# Uncomment to generate b/w images containing bounding boxes\n",
    "# Takes > 2m\n",
    "#generate_bb_data()"
   ]
  }
 ],
 "metadata": {
  "kernelspec": {
   "display_name": "docdig-eiiOlQ5S-py3.12",
   "language": "python",
   "name": "python3"
  },
  "language_info": {
   "codemirror_mode": {
    "name": "ipython",
    "version": 3
   },
   "file_extension": ".py",
   "mimetype": "text/x-python",
   "name": "python",
   "nbconvert_exporter": "python",
   "pygments_lexer": "ipython3",
   "version": "3.12.9"
  }
 },
 "nbformat": 4,
 "nbformat_minor": 2
}
