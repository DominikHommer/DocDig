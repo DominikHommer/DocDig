{
 "cells": [
  {
   "cell_type": "markdown",
   "metadata": {},
   "source": [
    "Run this notebook to fetch all required data"
   ]
  },
  {
   "cell_type": "code",
   "execution_count": 1,
   "metadata": {},
   "outputs": [],
   "source": [
    "import gdown"
   ]
  },
  {
   "cell_type": "code",
   "execution_count": 11,
   "metadata": {},
   "outputs": [
    {
     "name": "stderr",
     "output_type": "stream",
     "text": [
      "Downloading...\n",
      "From: https://drive.google.com/uc?id=1Kb_LFmmDmFWjcrWhDRySc3380lPc8Xl_\n",
      "To: /Users/benediktveith/Apps/Uni/DocDig/AutoEncoders/table_data.zip\n",
      "100%|██████████| 19.3M/19.3M [00:00<00:00, 30.8MB/s]\n"
     ]
    },
    {
     "data": {
      "text/plain": [
       "'table_data.zip'"
      ]
     },
     "execution_count": 11,
     "metadata": {},
     "output_type": "execute_result"
    }
   ],
   "source": [
    "gdown.download('https://drive.google.com/file/d/1Kb_LFmmDmFWjcrWhDRySc3380lPc8Xl_/view?usp=sharing', output='table_data.zip', fuzzy=True)"
   ]
  },
  {
   "cell_type": "code",
   "execution_count": 12,
   "metadata": {},
   "outputs": [
    {
     "name": "stderr",
     "output_type": "stream",
     "text": [
      "Downloading...\n",
      "From (original): https://drive.google.com/uc?id=1Lw5vb29dn5SA2mwWqrWisrdZV6WB5TkI\n",
      "From (redirected): https://drive.google.com/uc?id=1Lw5vb29dn5SA2mwWqrWisrdZV6WB5TkI&confirm=t&uuid=1cdf4d54-5591-459e-b99d-562483bc6f75\n",
      "To: /Users/benediktveith/Apps/Uni/DocDig/AutoEncoders/wtw_data.zip\n",
      "100%|██████████| 3.18G/3.18G [01:37<00:00, 32.6MB/s]\n"
     ]
    },
    {
     "data": {
      "text/plain": [
       "'wtw_data.zip'"
      ]
     },
     "execution_count": 12,
     "metadata": {},
     "output_type": "execute_result"
    }
   ],
   "source": [
    "gdown.download('https://drive.google.com/file/d/1Lw5vb29dn5SA2mwWqrWisrdZV6WB5TkI/view?usp=sharing', output='wtw_data.zip', fuzzy=True)"
   ]
  },
  {
   "cell_type": "markdown",
   "metadata": {},
   "source": [
    "Unzip downloaded folders & you are ready to go!"
   ]
  }
 ],
 "metadata": {
  "kernelspec": {
   "display_name": "docdig-eiiOlQ5S-py3.12",
   "language": "python",
   "name": "python3"
  },
  "language_info": {
   "codemirror_mode": {
    "name": "ipython",
    "version": 3
   },
   "file_extension": ".py",
   "mimetype": "text/x-python",
   "name": "python",
   "nbconvert_exporter": "python",
   "pygments_lexer": "ipython3",
   "version": "3.12.9"
  }
 },
 "nbformat": 4,
 "nbformat_minor": 2
}
