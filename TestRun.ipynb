{
 "cells": [
  {
   "metadata": {},
   "cell_type": "markdown",
   "source": "",
   "id": "6c52c570a31ba1d"
  },
  {
   "cell_type": "code",
   "id": "initial_id",
   "metadata": {
    "collapsed": true,
    "ExecuteTime": {
     "end_time": "2024-12-17T11:05:18.462430Z",
     "start_time": "2024-12-17T11:05:05.934797Z"
    }
   },
   "source": [
    "import utils\n",
    "\n",
    "import os\n",
    "import re\n",
    "import cv2\n",
    "import numpy as np\n",
    "import matplotlib.pyplot as plt\n",
    "import json\n",
    "import pandas as pd\n",
    "from PIL import Image\n",
    "import torch\n",
    "from transformers import TrOCRProcessor, VisionEncoderDecoderModel\n",
    "import requests\n",
    "from fuzzywuzzy import process, fuzz"
   ],
   "outputs": [
    {
     "name": "stderr",
     "output_type": "stream",
     "text": [
      "C:\\Programmieren\\Python\\DocDigTransformer\\lib\\site-packages\\fuzzywuzzy\\fuzz.py:11: UserWarning: Using slow pure-python SequenceMatcher. Install python-Levenshtein to remove this warning\n",
      "  warnings.warn('Using slow pure-python SequenceMatcher. Install python-Levenshtein to remove this warning')\n"
     ]
    }
   ],
   "execution_count": 1
  },
  {
   "metadata": {},
   "cell_type": "markdown",
   "source": "This Script assumes that a .pdf file was already segmented to a folder \"base_path\". It also assumes there are the labels to the segments in an excel sheet. The segments are colored RGB images, to allow ColorChecks and QuotationmarkChecks",
   "id": "7ca0564cdcab8499"
  },
  {
   "metadata": {
    "ExecuteTime": {
     "end_time": "2024-12-17T11:05:18.477428Z",
     "start_time": "2024-12-17T11:05:18.473434Z"
    }
   },
   "cell_type": "code",
   "source": "base_path='C:\\\\Uni\\\\1M. Semester\\\\DocDig\\\\gen_img\\\\scan_1972_CdB_3_20231125160810.pdf'",
   "id": "27c0a01ff8f0393f",
   "outputs": [],
   "execution_count": 2
  },
  {
   "metadata": {},
   "cell_type": "markdown",
   "source": "Read In the Excel Sheet, discard the first two and the last segment of each page (-0.png, -1.png, -last.png)",
   "id": "d325dd9c3a961235"
  },
  {
   "metadata": {
    "ExecuteTime": {
     "end_time": "2024-12-17T11:05:18.970452Z",
     "start_time": "2024-12-17T11:05:18.845135Z"
    }
   },
   "cell_type": "code",
   "source": [
    "label_path = '125160810Gelabelt.xlsx'\n",
    "file_path = os.path.join(base_path, label_path)\n",
    "\n",
    "# Read all sheets at once\n",
    "excel_data = pd.read_excel(file_path, sheet_name=None, header=None, dtype=str)\n",
    "\n",
    "num_sheets_labeled = len(excel_data)\n",
    "\n",
    "# Initialize a list to store labels for each sheet\n",
    "label_list = []\n",
    "\n",
    "# Iterate through each sheet's data\n",
    "for sheet_name, df in excel_data.items():\n",
    "    # Extract the first 50 lines from the second column (column 'B')\n",
    "    labels = df.iloc[:50, 1]  # Get the first 50 rows of column B\n",
    "\n",
    "    # Replace NaN values (empty cells) with empty strings\n",
    "    labels = labels.fillna('')\n",
    "\n",
    "    # Append the labels as a list for this sheet, preserving all values\n",
    "    label_list.append(labels.values)\n",
    "\n",
    "print(label_list)\n"
   ],
   "id": "6dd062d8bb5c86bc",
   "outputs": [
    {
     "name": "stdout",
     "output_type": "stream",
     "text": [
      "[array(['Mehlschwalbe', '\"', '\"', '\"', '\"', '\"', '\"', '\"', '\"', '\"', '\"',\n",
      "       'Tannenmeise', '\"', '\"', 'Erlenzeisig', '\"', '\"', '\"', 'Blaumeise',\n",
      "       '\"', 'Mehlschwalbe', '\"', 'Tannenmeise', '\"', '\"', '\"', '\"', '\"',\n",
      "       '\"', '\"', '\"', 'Blaumeise', 'Tannenmeise', 'Blaumeise', '\"',\n",
      "       'Tannenmeise', '\"', '\"', 'Schafstelze', 'Mehlschwalbe',\n",
      "       'Tannenmeise', '\"', '\"', '\"', '\"', '\"', '\"', '\"', '\"', '\"'],\n",
      "      dtype=object), array(['Tannenmeise', '\"', '', '', '', '', '', '', '', '', '', '', '', '',\n",
      "       '', '', '', '', '', '', '', '', '', '', 'Mehlschwalbe',\n",
      "       'Tannenmeise', '\"', 'Blaumeise', 'Schafstelze', 'Blaumeise',\n",
      "       'Tannenmeise', '\"', 'Blaumeise', 'Tannenmeise', '\"', '\"', '\"', '\"',\n",
      "       '\"', 'Blaumeise', 'Tannenmeise', '\"', '\"', '\"', '\"', '\"', '\"', '\"',\n",
      "       '\"', '\"'], dtype=object), array(['Tannenmeise', '', '', '', '', 'Mehlschwalbe', 'Blaumeise', '\"',\n",
      "       'Tannenmeise', '\"', 'Blaumeise', 'Tannenmeise', '\"', 'Blaumeise',\n",
      "       '\"', '\"', 'Tannenmeise', '\"', '\"', 'Blaumeise', 'Tannenmeise', '\"',\n",
      "       '\"', '\"', '\"', '\"', '\"', '\"', '\"', '\"', '\"', '\"', '\"', '\"', '\"',\n",
      "       '\"', '\"', '\"', '\"', '\"', '\"', '\"', '\"', '\"', '\"', '\"', '\"', '\"',\n",
      "       '\"', '\"'], dtype=object), array(['Tannenmeise', '', '', '', '', '', '', '', '', '', '', '', '', '',\n",
      "       '', '', '', '', '', '', '', '', '', '', '', '', '', '', '', '', '',\n",
      "       '', '', '', '', '', '', '', '', '', '', '', '', '', '', '', '', '',\n",
      "       '', ''], dtype=object), array(['Schafstelze', 'Baumpieper', 'Tannenmeise', '\"', '\"', '\"', '\"',\n",
      "       '\"', '\"', '\"', '\"', 'Erlenzeisig', 'Tannenmeise', '\"', '\"', '\"',\n",
      "       '\"', '\"', '\"', '\"', '\"', '\"', 'Erlenzeisig', 'Tannenmeise', '\"',\n",
      "       'Erlenzeisig', 'Tannenmeise', '\"', '\"', '\"', '\"', '\"', '\"',\n",
      "       'Rotkehlchen', 'Tannenmeise', 'Uferschwalbe', 'Schafstelze',\n",
      "       'Rotkehlchen', '\"', 'Tannenmeise', 'Distelfink', 'Hausrötel',\n",
      "       'Schafstelze', '\"', '\"', '\"', '\"', '-', 'Schafstelze', '\"'],\n",
      "      dtype=object), array(['Schafstelze', '\"', '\"', '\"', '\"', '\"', '\"', '\"', '\"', '\"', '\"',\n",
      "       '\"', 'Rotkehlchen', 'Schafstelze', '\"', '\"', 'Trauerschnäpper',\n",
      "       '\"', 'Gartenrötel', 'Grauschnäpper', 'Trauerschnäpper',\n",
      "       'Schafstelze', 'Rotkehlchen', 'Grauschnäpper', '\"', 'Rotkehlchen',\n",
      "       'Gartenrötel', 'Rotkehlchen', 'Trauerschnäpper', 'Gelbspötter',\n",
      "       'Rotkehlchen', '\"', 'Trauerschnäpper', 'Rotkehlchen',\n",
      "       'Trauerschnäpper', 'Rotkehlchen', '\"', '\"', 'Trauerschnäpper',\n",
      "       'Rotkehlchen', 'Gelbspötter', 'Gartenrötel', 'Trauerschnäpper',\n",
      "       'Rotkehlchen', 'Gartenrötel', 'Braunkehlchen', 'Rotkehlchen',\n",
      "       'Trauerschnäpper', '\"', '\"'], dtype=object), array(['Gartenrötel', 'Trauerschnäpper', 'Rotkehlchen', 'Gartenrötel',\n",
      "       'Rotkehlchen', '\"', 'Trauerschnäpper', 'Rotkehlchen', '\"',\n",
      "       'Gartenrötel', 'Trauerschnäpper', 'Rotkehlchen', '\"', '\"', '\"',\n",
      "       '\"', 'Gartenrötel', 'Rotkehlchen', '\"', 'Trauerschnäpper',\n",
      "       'Rotkehlchen', '\"', 'Trauerschnäpper', 'Grauschnäpper',\n",
      "       'Schafstelze', '\"', 'Gartenrötel', 'Trauerschnäpper',\n",
      "       'Gartenrötel', 'Rotkehlchen', 'Trauerschnäpper', '\"', '\"',\n",
      "       'Gartenrötel', '', 'Rotkehlchen', '\"', 'Gartenrötel',\n",
      "       'Trauerschnäpper', '\"', 'Gartenrötel', '\"', 'Trauerschnäpper', '\"',\n",
      "       'Gartenrötel', 'Trauerschnäpper', '\"', '\"', '\"', '\"'], dtype=object), array(['Trauerschnäpper', 'Gartenrötel', 'Trauerschnäpper', '\"',\n",
      "       'Gelbspötter', 'Trauerschnäpper', '\"', '\"', '\"', 'Grauschnäpper',\n",
      "       'Gartenrötel', 'Gelbspötter', 'Grauschnäpper', '\"',\n",
      "       'Trauerschnäpper', 'Braunkehlchen', 'R', 'Trauerschnäpper',\n",
      "       'Braunkehlchen', 'Trauerschnäpper', '\"', '\"', '\"', 'Grauschnäpper',\n",
      "       'Trauerschnäpper', 'Gartenrötel', '\"', 'Trauerschnäpper',\n",
      "       'Gartenrötel', 'Grauschnäpper', 'Trauerschnäpper', '\"', '\"', '\"',\n",
      "       'Gartenrötel', 'Gobemouche noir', '\"', 'Rougequeue à front blanc',\n",
      "       'Rougegorge', 'Gobemouche noir', '\"', 'Rougequeue à front blanc',\n",
      "       '\"', 'Rougegorge', '\"', 'Pipit des arbres', 'Mésange noire',\n",
      "       'Rougegorge', '\"', '\"'], dtype=object), array(['Rougegorge', '\"', '\"', 'Rougequeue à front blanc',\n",
      "       'Mésange noire', '\"', '\"', '\"', '\"', '\"', '\"', 'Rougegorge',\n",
      "       'Tannenmeise', '\"', '\"', '\"', '\"', '\"', '\"', '\"', 'Gartenrötel',\n",
      "       'Schafstelze', 'Rotkehlchen', 'Erlenzeisig', 'Braunkehlchen',\n",
      "       'Baumpieper', 'Rotkehlchen', 'Baumpieper', 'Rotkehlchen',\n",
      "       'Baumpieper', 'Tannenmeise', 'Braunkehlchen', 'Gartenrötel',\n",
      "       'Tannenmeise', '\"', '\"', '\"', 'Baumpieper', 'Tannenmeise',\n",
      "       'Baumpieper', 'Rauchschwalbe', 'Baumpieper', 'Wintergoldhähnchen',\n",
      "       'Rotkehlchen', 'Erlenzeisig', '\"', '\"', '\"', 'Tannenmeise',\n",
      "       'Baumpieper'], dtype=object), array(['Rotkehlchen', 'Tannenmeise', '\"', '\"', 'Distelfink',\n",
      "       'Rotkehlchen', 'Tannenmeise', '\"', '\"', 'Baumpieper',\n",
      "       'Tannenmeise', 'Rotkehlchen', 'Braunkehlchen', '\"', 'Tannenmeise',\n",
      "       '\"', '\"', '\"', '\"', '\"', '\"', '\"', '\"', '\"', '\"', '\"', '\"', '\"',\n",
      "       '\"', '\"', '\"', '\"', '\"', '\"', '\"', '\"', '\"', '\"', '\"', '\"', '\"',\n",
      "       '\"', '\"', 'Birkenzeisig', '\"', 'Schafstelze', '\"',\n",
      "       'Heckenbraunelle', 'Hausrötel', 'Tannenmeise'], dtype=object), array(['Tannenmeise', '\"', '\"', 'Distelfink', 'Tannenmeise', '\"', '\"',\n",
      "       '\"', '\"', 'Blaumeise', '\"', 'Tannenmeise', '\"', '\"', '\"', '\"', '\"',\n",
      "       '\"', '\"', '\"', 'Blaumeise', 'Tannenmeise', '\"', '\"', '\"', '\"', '\"',\n",
      "       '\"', '\"', 'Blaumeise', 'Tannenmeise', '\"', 'Blaumeise',\n",
      "       'Tannenmeise', '\"', '\"', 'Blaumeise', 'Tannenmeise', '\"',\n",
      "       'Heckenbraunelle', 'Tannenmeise', '\"', '\"', 'Erlenzeisig',\n",
      "       'Baumpieper', 'Tannenmeise', '\"', '\"', '\"', '\"'], dtype=object), array(['Tannenmeise', '\"', '\"', '\"', '\"', '\"', 'Blaumeise', 'Tannenmeise',\n",
      "       '\"', 'Mehlschwalbe', 'Tannenmeise', '\"', '\"', '\"', '\"', '\"', '\"',\n",
      "       '\"', 'Blaumeise', '\"', 'Tannenmeise', '\"', '\"', '\"', '\"',\n",
      "       'Blaumeise', '\"', '\"', 'Tannenmeise', 'Blaumeise', '\"',\n",
      "       'Tannenmeise', '\"', '\"', '\"', '\"', '\"', '\"', '\"', '\"', '\"', '\"',\n",
      "       '\"', '\"', '\"', '\"', '\"', 'Wintergoldhähnchen', 'Tannenmeise', '\"'],\n",
      "      dtype=object), array(['Tannenmeise', '\"', '\"', '\"', '\"', '\"', '\"', '\"', '\"', '\"', '\"',\n",
      "       'Blaumeise', 'Tannenmeise', '\"', '\"', '\"', '\"', '\"', '\"', '\"', '\"',\n",
      "       '\"', '\"', '\"', '\"', '\"', 'Mehlschwalbe', 'Blaumeise',\n",
      "       'Tannenmeise', '\"', '\"', '\"', '\"', '\"', '\"', '\"', '\"',\n",
      "       'Rauchschwalbe', 'Tannenmeise', '\"', '\"', '\"', '\"', '\"', '\"', '\"',\n",
      "       '\"', '\"', '\"', 'Blaumeise'], dtype=object), array(['Tannenmeise', 'Blaumeise', 'Tannenmeise', '\"', 'Blaumeise',\n",
      "       'Tannenmeise', 'Baumpieper', 'Birkenzeisig', 'Schafstelze', '\"',\n",
      "       '\"', '\"', '\"', '\"', '\"', '\"', '\"', '\"', '\"', '\"', '\"', '\"', '\"',\n",
      "       '\"', '\"', '\"', '\"', '\"', '\"', '\"', '\"', '\"', '\"', '\"', '\"', '\"',\n",
      "       '\"', '\"', 'Gartenrötel', 'Rotkehlchen', 'Birkenzeisig',\n",
      "       'Wintergoldhähnchen', 'Rotkehlchen', 'Gartenrötel', 'Rotkehlchen',\n",
      "       '\"', '\"', '\"', 'Heckenbraunelle', '\"'], dtype=object), array(['Mésange noire', '\"', '\"', '\"', '\"', '\"', '\"', '\"', '\"', '\"', '\"',\n",
      "       '\"', '\"', '\"', '\"', '\"', '\"', '\"', '\"', '\"', '\"', '\"', '\"', '\"',\n",
      "       '\"', '\"', '\"', '\"', '\"', '\"', '\"', '\"', '\"', '\"', '\"', '\"', '\"',\n",
      "       '\"', '\"', '\"', '\"', '\"', '\"', '\"', '\"', '\"', '\"', '\"', '\"', '\"'],\n",
      "      dtype=object), array(['Mésange noire', '\"', '\"', '\"', '\"', '\"', '\"', '\"', '\"', '\"', '\"',\n",
      "       '\"', '\"', '\"', '\"', '\"', '\"', '\"', '\"', '\"', '\"', '\"', '\"', '\"',\n",
      "       '\"', '\"', '\"', '\"', '\"', '\"', 'Mésange bleue', 'Mésange noire',\n",
      "       'Mésange bleue', 'Mésange noire', '\"', 'Mésange bleue',\n",
      "       'Mésange noire', '\"', '\"', '\"', '\"', '\"', '\"', '\"', '\"', '\"', '\"',\n",
      "       '\"', '\"', '\"'], dtype=object), array(['Hausrötel', 'Heckenbraunelle', '\"', '', 'Hausrötel', 'Zilpzalp',\n",
      "       'Erlenzeisig', '\"', '\"', 'Baumpieper', 'Rotkehlchen', '\"', 'Fitis',\n",
      "       'Erlenzeisig', 'Heckenbraunelle', 'Schafstelze', 'Schafstelze',\n",
      "       'Rotkehlchen', 'Erlenzeisig', '\"', '\"', 'Baumpieper',\n",
      "       'Schafstelze', 'Baumpieper', 'Rotkehlchen', 'Heckenbraunelle', '\"',\n",
      "       'Baumpieper', 'Heckenbraunelle', 'Rotkehlchen', 'Baumpieper',\n",
      "       'Tannenmeise', '\"', '\"', '\"', '\"', '\"', 'Blaumeise', 'Tannenmeise',\n",
      "       '\"', '\"', '\"', '\"', '\"', '\"', '\"', '\"', '\"', 'Schafstelze',\n",
      "       'Tannenmeise'], dtype=object), array(['Mésange noire', '\"', '\"', '\"', '\"', '\"', '\"', '\"', '\"',\n",
      "       'Mésange bleue', '\"', '\"', 'Mésange noire', '\"', '\"', '\"', '\"',\n",
      "       '\"', '\"', '\"', '\"', '\"', 'Mésange bleue', 'Mésange noire', '\"',\n",
      "       '\"', '\"', '\"', '\"', '\"', 'Mésange bleue', 'Mésange noire', '\"',\n",
      "       '\"', '\"', '\"', '\"', '\"', '\"', '\"', '\"', '\"', '\"', '\"', '\"', '\"',\n",
      "       '\"', '\"', 'Mésange bleue', 'Mésange noire'], dtype=object), array(['Tannenmeise', '\"', '\"', '\"', '\"', 'Erlenzeisig', 'Tannenmeise',\n",
      "       '\"', '\"', '\"', '\"', '\"', '\"', '\"', '\"', '\"', '\"', '\"', '\"', '\"',\n",
      "       '\"', '\"', '\"', '\"', '\"', '\"', '\"', '\"', '\"', '\"', '\"', '\"', '\"',\n",
      "       'Mehlschwalbe', 'Erlenzeisig', 'Baumpieper', 'Distelfink',\n",
      "       'Schafstelze', '\"', 'Distelfink', 'Hausrötel', 'Trauerschnäpper',\n",
      "       'Grauschnäpper', 'Gelbspötter', '\"', '\"', 'Trauerschnäpper',\n",
      "       'Grauschnäpper', 'Teichrohrsänger', '\"'], dtype=object), array(['Tannenmeise', '\"', '\"', '\"', 'Blaumeise', 'Tannenmeise', '\"', '\"',\n",
      "       '\"', '\"', 'Blaumeise', '\"', '\"', '\"', 'Tannenmeise', '\"',\n",
      "       'Baumpieper', 'Blaumeise', 'Distelfink', 'Blaumeise',\n",
      "       'Tannenmeise', 'Blaumeise', '\"', 'Tannenmeise', 'Blaumeise', '\"',\n",
      "       'Erlenzeisig', 'Birkenzeisig', 'Zitronenzeisig', 'Baumpieper',\n",
      "       'Tannenmeise', '\"', '\"', '\"', '\"', '\"', '\"', '\"', '\"', '\"', '\"',\n",
      "       '\"', '\"', '\"', '\"', '\"', '\"', '\"', '\"', '\"'], dtype=object), array(['Mésange bleue', 'Mésange noire', 'Mésange bleue', 'Mésange noire',\n",
      "       '\"', '\"', '\"', '\"', '\"', '\"', '\"', '\"', '\"', '\"', '\"', '\"',\n",
      "       'Mésange bleue', '\"', '\"', 'Mésange noire', '\"', '\"', '\"', '\"',\n",
      "       '\"', '\"', '\"', '\"', '\"', '\"', 'Mésange bleue', 'Mésange noire',\n",
      "       '\"', 'Mésange bleue', 'Mésange noire', 'Mésange noire', '\"', '\"',\n",
      "       '\"', '\"', '\"', '\"', '\"', '\"', '\"', '\"', '\"', '\"', '\"', '\"'],\n",
      "      dtype=object), array(['Trauerschnäpper', '\"', '\"', '', 'Rotkehlchen', '\"', 'Gartenrötel',\n",
      "       'Rotkehlchen', '\"', '\"', '\"', '\"', '\"', 'Gartenrötel',\n",
      "       'Wintergoldhähnchen', 'Gartenrötel', '\"', 'Rotkehlchen',\n",
      "       'Trauerschnäpper', 'Grauschnäpper', 'Rotkehlchen', '\"', '\"', '\"',\n",
      "       '\"', 'Gelbspötter', 'Rotkehlchen', '\"', 'Schlagschwirl',\n",
      "       'Gartenrötel', '\"', '\"', '\"', '\"', '\"', 'Trauerschnäpper',\n",
      "       'Rotkehlchen', 'Fitis', 'Gelbspötter', 'Gartenrötel', '\"', '\"',\n",
      "       '\"', '\"', 'Fitis', 'Trauerschnäpper', 'Rotkehlchen', 'Fitis',\n",
      "       'Gartenrötel', 'Trauerschnäpper'], dtype=object), array(['Trauerschnäpper', '\"', 'Gartenrötel', '\"', 'Rotkehlchen',\n",
      "       'Rougequeue à front blanc', 'Rougequeue à front blanc', '\"', '\"',\n",
      "       '\"', 'Traquet tarier', 'Gobemouche noir',\n",
      "       'Rougequeue à front blanc', '\"', '', 'Rougequeue à front blanc',\n",
      "       'Traquet tarier', 'Gobemouche noir', '\"',\n",
      "       'Rougequeue à front blanc', 'Mésange noire', '\"',\n",
      "       'Pipit des arbres', 'Mésange noire', '\"', '\"', '\"', '\"', '\"', '\"',\n",
      "       '\"', '\"', '\"', '\"', '\"', '\"', '\"', '\"', '\"', '\"', '\"', '\"',\n",
      "       'Blaumeise', 'Tannenmeise', '\"', '\"', '\"', '\"', '\"', '\"'],\n",
      "      dtype=object)]\n"
     ]
    }
   ],
   "execution_count": 3
  },
  {
   "metadata": {
    "ExecuteTime": {
     "end_time": "2024-12-17T11:05:39.445780Z",
     "start_time": "2024-12-17T11:05:19.005157Z"
    }
   },
   "cell_type": "code",
   "source": [
    "processor = TrOCRProcessor.from_pretrained('microsoft/trocr-large-handwritten')\n",
    "model = VisionEncoderDecoderModel.from_pretrained('microsoft/trocr-large-handwritten')"
   ],
   "id": "68d2cfadbb34059",
   "outputs": [
    {
     "name": "stderr",
     "output_type": "stream",
     "text": [
      "Config of the encoder: <class 'transformers.models.vit.modeling_vit.ViTModel'> is overwritten by shared encoder config: ViTConfig {\n",
      "  \"attention_probs_dropout_prob\": 0.0,\n",
      "  \"encoder_stride\": 16,\n",
      "  \"hidden_act\": \"gelu\",\n",
      "  \"hidden_dropout_prob\": 0.0,\n",
      "  \"hidden_size\": 1024,\n",
      "  \"image_size\": 384,\n",
      "  \"initializer_range\": 0.02,\n",
      "  \"intermediate_size\": 4096,\n",
      "  \"layer_norm_eps\": 1e-12,\n",
      "  \"model_type\": \"vit\",\n",
      "  \"num_attention_heads\": 16,\n",
      "  \"num_channels\": 3,\n",
      "  \"num_hidden_layers\": 24,\n",
      "  \"patch_size\": 16,\n",
      "  \"qkv_bias\": false,\n",
      "  \"transformers_version\": \"4.46.2\"\n",
      "}\n",
      "\n",
      "Config of the decoder: <class 'transformers.models.trocr.modeling_trocr.TrOCRForCausalLM'> is overwritten by shared decoder config: TrOCRConfig {\n",
      "  \"activation_dropout\": 0.0,\n",
      "  \"activation_function\": \"gelu\",\n",
      "  \"add_cross_attention\": true,\n",
      "  \"attention_dropout\": 0.0,\n",
      "  \"bos_token_id\": 0,\n",
      "  \"classifier_dropout\": 0.0,\n",
      "  \"cross_attention_hidden_size\": 1024,\n",
      "  \"d_model\": 1024,\n",
      "  \"decoder_attention_heads\": 16,\n",
      "  \"decoder_ffn_dim\": 4096,\n",
      "  \"decoder_layerdrop\": 0.0,\n",
      "  \"decoder_layers\": 12,\n",
      "  \"decoder_start_token_id\": 2,\n",
      "  \"dropout\": 0.1,\n",
      "  \"eos_token_id\": 2,\n",
      "  \"init_std\": 0.02,\n",
      "  \"is_decoder\": true,\n",
      "  \"layernorm_embedding\": true,\n",
      "  \"max_position_embeddings\": 512,\n",
      "  \"model_type\": \"trocr\",\n",
      "  \"pad_token_id\": 1,\n",
      "  \"scale_embedding\": false,\n",
      "  \"transformers_version\": \"4.46.2\",\n",
      "  \"use_cache\": false,\n",
      "  \"use_learned_position_embeddings\": true,\n",
      "  \"vocab_size\": 50265\n",
      "}\n",
      "\n",
      "Some weights of VisionEncoderDecoderModel were not initialized from the model checkpoint at microsoft/trocr-large-handwritten and are newly initialized: ['encoder.pooler.dense.bias', 'encoder.pooler.dense.weight']\n",
      "You should probably TRAIN this model on a down-stream task to be able to use it for predictions and inference.\n"
     ]
    }
   ],
   "execution_count": 4
  },
  {
   "metadata": {
    "ExecuteTime": {
     "end_time": "2024-12-17T11:05:39.808359Z",
     "start_time": "2024-12-17T11:05:39.785362Z"
    }
   },
   "cell_type": "code",
   "source": [
    "# extract classes\n",
    "import json\n",
    "\n",
    "# Load the JSON file\n",
    "with open(\"./class_indices_extended.json\", \"r\", encoding=\"utf-8\") as file:\n",
    "    class_indices = json.load(file)\n",
    "\n",
    "# Extract the class names (ignoring the index)\n",
    "class_names = list(class_indices.keys())\n",
    "\n",
    "# Display the class names\n",
    "print(\"Class Names:\", class_names)"
   ],
   "id": "dbf37f30024644ea",
   "outputs": [
    {
     "name": "stdout",
     "output_type": "stream",
     "text": [
      "Class Names: ['\"', 'Alpenmeise', 'Baumpieper', 'Birkenzeisig', 'Blaumeise', 'Braunkelchen', 'Distelfink', 'Erlenzeisig', 'Fitis', 'Gartenrotschwanz', 'Gartenrötel', 'Gelbspöter', 'Girlitz', 'Grauschnäpper', 'Hausrotschwanz', 'Hausrötel', 'Hänfling', 'Heckenbraunelle', 'Klappergrasmücke', 'Rotkelchen', 'Tannenmeise', 'Trauerschnäpper', 'Wintergoldhähnchen', 'Zaungrasmücke', 'Zilpzalp', 'Zitroneler', 'Zitronenfink', 'Zitronenzeisig', 'Mehlschwalbe', 'Rauchschwalbe', 'Schafstelze', 'Teichrohrsänger', 'Uferschwalbe', 'Gobemouche noir', 'Linotte mélodieuse', 'Mésange bleu', 'Mésange noir', 'Pipit des arbres', 'Pouillot véloce', 'Rougegorge', 'Rougequeue à front blanc', 'Traquet tarier', 'Bergeronnette grise', 'Accenteur mouchet', 'Tarin', 'Serin']\n"
     ]
    }
   ],
   "execution_count": 5
  },
  {
   "metadata": {
    "jupyter": {
     "is_executing": true
    },
    "ExecuteTime": {
     "start_time": "2024-12-17T11:05:40.251036Z"
    }
   },
   "cell_type": "code",
   "source": [
    "# Define the path to the folder containing your images\n",
    "image_folder = \"NOPRE-COLOR-col-1\"  # Replace with the actual folder path\n",
    "# Array to store the OCR outputs\n",
    "ocr_outputs = []\n",
    "threshold = 0\n",
    "num_sheet = 0\n",
    "\n",
    "for page in range(num_sheets_labeled): # for all pages\n",
    "    num_sheet = page + 1\n",
    "        \n",
    "    for line in range(50):\n",
    "        filename = str(page) + \"-\" + str(line+2) + \".png\"\n",
    "        \n",
    "        label = label_list[page][line]\n",
    "        \n",
    "        # Construct the full file path\n",
    "        file_path = os.path.join(base_path, \"cells\", image_folder, filename)\n",
    "\n",
    "        # Check if the file is an image (add more extensions if needed)\n",
    "        if filename.lower().endswith(('.png', '.jpg', '.jpeg', '.tiff', '.bmp', '.gif')):\n",
    "            try:\n",
    "                print(file_path)\n",
    "                # Load and process the image\n",
    "                #image = Image.open(file_path).convert(\"RGB\")\n",
    "                image_original = cv2.imread(file_path)\n",
    "                \n",
    "                # Check colors of original image (remove black if text is written in blue)\n",
    "                tmp1 = utils.check_text_color(image_original)\n",
    "                if tmp1['predominant_color'] == 'blue':\n",
    "                    image = utils.remove_black_pixels(image_original)\n",
    "                else:\n",
    "                    image = image_original\n",
    "                    \n",
    "                # Check quotationmarks (no further processing needed, if quotationmark detected)\n",
    "                tmp2 = utils.detectQuotationMarks(image_original)\n",
    "                \n",
    "                # The network needs a PIL image\n",
    "                image = cv2.cvtColor(image, cv2.COLOR_BGR2RGB)  # Convert BGR to RGB\n",
    "                image = Image.fromarray(image)  # Convert NumPy array to PIL Image\n",
    "                \n",
    "                if tmp2['Quotationmark'] == False:\n",
    "                \n",
    "                    pixel_values = processor(images=image, return_tensors=\"pt\").pixel_values\n",
    "\n",
    "                    # Generate text from the OCR model\n",
    "                    generated_ids = model.generate(pixel_values)#, output_scores=True, return_dict_in_generate=True)\n",
    "                    generated_text = processor.batch_decode(generated_ids, skip_special_tokens=True)[0]\n",
    "\n",
    "                    # Fuzzy match the recognized text to the bird species list\n",
    "                    best_match, score = process.extractOne(generated_text, class_names)\n",
    "\n",
    "                    # Post-process to filter only a-z and A-Z characters in the recognized text\n",
    "                    filtered_text = re.sub(r'[^a-zA-ZäöüÄÖÜß\"]', '', utils.replace_numbers_with_letters(generated_text))\n",
    "\n",
    "                    # Fuzzy match the processed recognized text to the bird species list\n",
    "                    best_match_filtered, score_filtered = process.extractOne(filtered_text, class_names)\n",
    "                \n",
    "                    # Fuzzy match the processed recognized text to the bird species with initial letter bonus\n",
    "                    best_match_customFuzzy, score_custom_fuzzy = utils.custom_fuzzy_match(filtered_text, class_names)\n",
    "\n",
    "                    # Append the result to the output array\n",
    "                    ocr_outputs.append({\"page_number\": page+1,\n",
    "                                    \"line_number\": line+1,\n",
    "                                    \"image\": image,\n",
    "                                    \"generated_ids\": generated_ids,\n",
    "                                    \"true_text\": label,\n",
    "                                    \"detected_color\": tmp1['predominant_color'],\n",
    "                                    \"detected_quoMark\": tmp2['Quotationmark'],\n",
    "                                    \"recognized_text\": generated_text,\n",
    "                                    \"best_match\": best_match if score >= threshold else None,\n",
    "                                    \"score\": score,\n",
    "                                    \"filtered_text\": filtered_text,\n",
    "                                    \"best_match_filtered\": best_match_filtered,\n",
    "                                    \"score_filtered\": score_filtered,\n",
    "                                    \"best_match_customFuzzy\": best_match_customFuzzy,\n",
    "                                    \"score_customFuzzy\": score_custom_fuzzy})\n",
    "                \n",
    "                else:\n",
    "                    # Append the result to the output array\n",
    "                    ocr_outputs.append({\"page_number\": page+1,\n",
    "                                    \"line_number\": line+1,\n",
    "                                    \"image\": image,\n",
    "                                    \"generated_ids\": \"\",\n",
    "                                    \"true_text\": label,\n",
    "                                    \"detected_color\": tmp1['predominant_color'],\n",
    "                                    \"detected_quoMark\": tmp2['Quotationmark'],\n",
    "                                    \"recognized_text\": \"\\\"\",\n",
    "                                    \"best_match\": \"\\\"\",\n",
    "                                    \"score\": 100,\n",
    "                                    \"filtered_text\": \"\\\"\",\n",
    "                                    \"best_match_filtered\": \"\\\"\",\n",
    "                                    \"score_filtered\": 100,\n",
    "                                    \"best_match_customFuzzy\": \"\\\"\",\n",
    "                                    \"score_customFuzzy\": 100})\n",
    "\n",
    "            except Exception as e:\n",
    "                print(f\"Error processing file {filename}: {e}\")\n",
    "                "
   ],
   "id": "1d3755fe188a014f",
   "outputs": [
    {
     "name": "stdout",
     "output_type": "stream",
     "text": [
      "C:\\Uni\\1M. Semester\\DocDig\\gen_img\\scan_1972_CdB_3_20231125160810.pdf\\cells\\NOPRE-COLOR-col-1\\0-2.png\n"
     ]
    },
    {
     "name": "stderr",
     "output_type": "stream",
     "text": [
      "C:\\Programmieren\\Python\\DocDigTransformer\\lib\\site-packages\\transformers\\generation\\utils.py:1375: UserWarning: Using the model-agnostic default `max_length` (=20) to control the generation length. We recommend setting `max_new_tokens` to control the maximum length of the generation.\n",
      "  warnings.warn(\n"
     ]
    },
    {
     "name": "stdout",
     "output_type": "stream",
     "text": [
      "C:\\Uni\\1M. Semester\\DocDig\\gen_img\\scan_1972_CdB_3_20231125160810.pdf\\cells\\NOPRE-COLOR-col-1\\0-3.png\n",
      "C:\\Uni\\1M. Semester\\DocDig\\gen_img\\scan_1972_CdB_3_20231125160810.pdf\\cells\\NOPRE-COLOR-col-1\\0-4.png\n",
      "C:\\Uni\\1M. Semester\\DocDig\\gen_img\\scan_1972_CdB_3_20231125160810.pdf\\cells\\NOPRE-COLOR-col-1\\0-5.png\n",
      "C:\\Uni\\1M. Semester\\DocDig\\gen_img\\scan_1972_CdB_3_20231125160810.pdf\\cells\\NOPRE-COLOR-col-1\\0-6.png\n",
      "C:\\Uni\\1M. Semester\\DocDig\\gen_img\\scan_1972_CdB_3_20231125160810.pdf\\cells\\NOPRE-COLOR-col-1\\0-7.png\n",
      "C:\\Uni\\1M. Semester\\DocDig\\gen_img\\scan_1972_CdB_3_20231125160810.pdf\\cells\\NOPRE-COLOR-col-1\\0-8.png\n",
      "C:\\Uni\\1M. Semester\\DocDig\\gen_img\\scan_1972_CdB_3_20231125160810.pdf\\cells\\NOPRE-COLOR-col-1\\0-9.png\n",
      "C:\\Uni\\1M. Semester\\DocDig\\gen_img\\scan_1972_CdB_3_20231125160810.pdf\\cells\\NOPRE-COLOR-col-1\\0-10.png\n",
      "C:\\Uni\\1M. Semester\\DocDig\\gen_img\\scan_1972_CdB_3_20231125160810.pdf\\cells\\NOPRE-COLOR-col-1\\0-11.png\n",
      "C:\\Uni\\1M. Semester\\DocDig\\gen_img\\scan_1972_CdB_3_20231125160810.pdf\\cells\\NOPRE-COLOR-col-1\\0-12.png\n",
      "C:\\Uni\\1M. Semester\\DocDig\\gen_img\\scan_1972_CdB_3_20231125160810.pdf\\cells\\NOPRE-COLOR-col-1\\0-13.png\n",
      "C:\\Uni\\1M. Semester\\DocDig\\gen_img\\scan_1972_CdB_3_20231125160810.pdf\\cells\\NOPRE-COLOR-col-1\\0-14.png\n",
      "C:\\Uni\\1M. Semester\\DocDig\\gen_img\\scan_1972_CdB_3_20231125160810.pdf\\cells\\NOPRE-COLOR-col-1\\0-15.png\n",
      "C:\\Uni\\1M. Semester\\DocDig\\gen_img\\scan_1972_CdB_3_20231125160810.pdf\\cells\\NOPRE-COLOR-col-1\\0-16.png\n",
      "C:\\Uni\\1M. Semester\\DocDig\\gen_img\\scan_1972_CdB_3_20231125160810.pdf\\cells\\NOPRE-COLOR-col-1\\0-17.png\n",
      "C:\\Uni\\1M. Semester\\DocDig\\gen_img\\scan_1972_CdB_3_20231125160810.pdf\\cells\\NOPRE-COLOR-col-1\\0-18.png\n",
      "C:\\Uni\\1M. Semester\\DocDig\\gen_img\\scan_1972_CdB_3_20231125160810.pdf\\cells\\NOPRE-COLOR-col-1\\0-19.png\n",
      "C:\\Uni\\1M. Semester\\DocDig\\gen_img\\scan_1972_CdB_3_20231125160810.pdf\\cells\\NOPRE-COLOR-col-1\\0-20.png\n",
      "C:\\Uni\\1M. Semester\\DocDig\\gen_img\\scan_1972_CdB_3_20231125160810.pdf\\cells\\NOPRE-COLOR-col-1\\0-21.png\n",
      "C:\\Uni\\1M. Semester\\DocDig\\gen_img\\scan_1972_CdB_3_20231125160810.pdf\\cells\\NOPRE-COLOR-col-1\\0-22.png\n",
      "C:\\Uni\\1M. Semester\\DocDig\\gen_img\\scan_1972_CdB_3_20231125160810.pdf\\cells\\NOPRE-COLOR-col-1\\0-23.png\n",
      "C:\\Uni\\1M. Semester\\DocDig\\gen_img\\scan_1972_CdB_3_20231125160810.pdf\\cells\\NOPRE-COLOR-col-1\\0-24.png\n"
     ]
    }
   ],
   "execution_count": null
  },
  {
   "metadata": {
    "ExecuteTime": {
     "end_time": "2024-12-15T12:15:26.981150Z",
     "start_time": "2024-12-15T12:10:48.407017Z"
    }
   },
   "cell_type": "code",
   "source": [
    "# Write output to excel sheet\n",
    "\n",
    "# Check Sheet numbers\n",
    "if (num_sheet != num_sheetsLabeled):\n",
    "    print(f\"Something is Wrong! Labeled Sheets: {num_sheetsLabeled} but sheets in the data: {num_sheet}\")\n",
    "    \n",
    "# Extract Ringnumber from data (Here we use an exapmle)\n",
    "ringnumber = 100101\n",
    "    \n",
    "# Initialize an Excel workbook with 10 sheets, starting from 100100, and save it as 'output.xlsx'\n",
    "utils.initialize_excel(num_pages=num_sheet, start_number=ringnumber, output_path=\"125160810TESTOUTPUT.xlsx\")\n",
    "\n",
    "# Write the output to the initialized excel Sheet\n",
    "utils.write_ocr_outputs_to_excel(ocr_outputs=ocr_outputs, excel_path=\"125160810TESTOUTPUT.xlsx\")\n",
    "\n",
    "# Add colors to the excel for better visualization\n",
    "utils.add_color_to_scores(score_column=3, threshold=70, excel_path=\"125160810TESTOUTPUT.xlsx\")"
   ],
   "id": "ec66c14f6f38f7bb",
   "outputs": [
    {
     "name": "stdout",
     "output_type": "stream",
     "text": [
      "Something is Wrong! Labeled Sheets: 23 but sheets in the data: 3\n",
      "Excel workbook initialized and saved to 125160810TESTOUTPUT.xlsx\n",
      "OCR outputs written to 125160810TESTOUTPUT.xlsx\n",
      "Colors added to scores in 125160810TESTOUTPUT.xlsx\n"
     ]
    }
   ],
   "execution_count": 7
  },
  {
   "metadata": {
    "ExecuteTime": {
     "end_time": "2024-12-15T12:15:26.981150Z",
     "start_time": "2024-12-15T12:10:49.105064Z"
    }
   },
   "cell_type": "code",
   "source": [
    "correct = []\n",
    "wrong = []\n",
    "# Display each image with its recognized text and best fuzzy match\n",
    "#fig, axes = plt.subplots(nrows=len(ocr_outputs), ncols=1, figsize=(10, 5 * len(ocr_outputs)))\n",
    "#fig.suptitle(\"OCR Outputs and Fuzzy Matches\", fontsize=16)\n",
    "\n",
    "for idx, item in enumerate(ocr_outputs):\n",
    "    #ax = axes[idx] if len(ocr_outputs) > 1 else axes  # Handles single image case\n",
    "    #ax.imshow(item[\"image\"])\n",
    "    #ax.axis('off')\n",
    "\n",
    "    # Display fuzzy match and weighted fuzzy match below each image\n",
    "    recognized_text = item[\"recognized_text\"]\n",
    "    true_text = item[\"true_text\"]\n",
    "    detected_color = item[\"detected_color\"]\n",
    "    detected_quoMark = item[\"detected_quoMark\"]\n",
    "    best_match = item[\"best_match\"]\n",
    "    score = item[\"score\"]\n",
    "    filtered_text = item[\"filtered_text\"]\n",
    "    best_match_filtered = item[\"best_match_filtered\"]\n",
    "    score_filtered = item[\"score_filtered\"]\n",
    "    best_match_customFuzzy = item[\"best_match_customFuzzy\"]\n",
    "    score_custom_fuzzy = item[\"score_customFuzzy\"]\n",
    "    \n",
    "    if true_text == best_match_filtered:\n",
    "        correct.append(score_filtered)\n",
    "    else:\n",
    "        wrong.append(score_filtered)\n",
    "    \n",
    "    text = f\"True Text: '{true_text}'\\n\"\n",
    "    text += f\"Detected Color: '{detected_color}', Detected QuoMark: '{detected_quoMark}'\\n\"\n",
    "    text += f\"\\nRecognized Text: '{recognized_text}'\\n\"\n",
    "    text += f\"Filtered Recognized Text: '{filtered_text}'\\n\"\n",
    "    if best_match:\n",
    "        text += f\"Best Match for recognized text: '{best_match}' with Score: {score}\\n\"\n",
    "    if best_match_filtered:\n",
    "        text += f\"Best Match for filtered text: '{best_match_filtered}' with Score: {score_filtered}\\n\"\n",
    "    if best_match_customFuzzy:\n",
    "        text += f\"Best Match for filtered text with weight: '{best_match_customFuzzy}' with Score: {score_custom_fuzzy}\\n\"\n",
    "    else:\n",
    "        text += f\"No confident match found (Score: {score})\"\n",
    "\n",
    "    #ax.set_title(text, fontsize=12)\n",
    "\n",
    "#plt.tight_layout(rect=[0, 0.03, 1, 0.95])  # Adjust layout to fit title\n",
    "#plt.show()\n",
    "\n",
    "print(\"Corrects: \", len(correct), \" Wrongs: \", len(wrong), \" in Percentages: \", len(correct) / (len(correct) + len(wrong)))"
   ],
   "id": "d7864e67233b6f59",
   "outputs": [
    {
     "name": "stdout",
     "output_type": "stream",
     "text": [
      "Corrects:  66  Wrongs:  34  in Percentages:  0.66\n"
     ]
    }
   ],
   "execution_count": 8
  }
 ],
 "metadata": {
  "kernelspec": {
   "display_name": "Python 3",
   "language": "python",
   "name": "python3"
  },
  "language_info": {
   "codemirror_mode": {
    "name": "ipython",
    "version": 2
   },
   "file_extension": ".py",
   "mimetype": "text/x-python",
   "name": "python",
   "nbconvert_exporter": "python",
   "pygments_lexer": "ipython2",
   "version": "2.7.6"
  }
 },
 "nbformat": 4,
 "nbformat_minor": 5
}
